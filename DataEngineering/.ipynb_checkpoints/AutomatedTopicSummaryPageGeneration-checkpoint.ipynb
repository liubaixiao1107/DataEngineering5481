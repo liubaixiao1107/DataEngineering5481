{
 "cells": [
  {
   "cell_type": "markdown",
   "id": "168b54c8-d579-4a5d-9a69-be25bd7d6991",
   "metadata": {},
   "source": [
    "# Automated Topic Summary Page Generation"
   ]
  },
  {
   "cell_type": "markdown",
   "id": "d91b2bba-182e-41fd-ad76-e0358d5899a9",
   "metadata": {},
   "source": [
    "## 1. Project Introduction"
   ]
  },
  {
   "cell_type": "code",
   "execution_count": null,
   "id": "a6b8c5bf-2342-4fea-b12b-7110842776cb",
   "metadata": {},
   "outputs": [],
   "source": []
  },
  {
   "cell_type": "markdown",
   "id": "b6dbb7de-f840-4a2b-a339-568124b0652d",
   "metadata": {},
   "source": [
    "## 2. Crawl the news"
   ]
  },
  {
   "cell_type": "code",
   "execution_count": null,
   "id": "27a14c61-68ae-4e34-9f56-087707af0285",
   "metadata": {},
   "outputs": [],
   "source": []
  },
  {
   "cell_type": "markdown",
   "id": "ff45c8cd-7fd1-446b-a5c2-dd74024238d1",
   "metadata": {},
   "source": [
    "## 3. Clean the data"
   ]
  },
  {
   "cell_type": "code",
   "execution_count": null,
   "id": "b34b8dec-7b2b-484a-8080-bdfbf4e337e1",
   "metadata": {},
   "outputs": [],
   "source": []
  },
  {
   "cell_type": "markdown",
   "id": "6bdedd3a-573d-4c75-bf1b-4835b615facf",
   "metadata": {},
   "source": [
    "## 4. Extract the information"
   ]
  },
  {
   "cell_type": "code",
   "execution_count": null,
   "id": "52a9ac94-e1aa-46c8-8688-3db2a62309fc",
   "metadata": {},
   "outputs": [],
   "source": []
  },
  {
   "cell_type": "markdown",
   "id": "3480ffb6-a71b-4ea8-9931-ca670ea78289",
   "metadata": {},
   "source": [
    "## 5. Summarize"
   ]
  },
  {
   "cell_type": "code",
   "execution_count": null,
   "id": "7cbfb4d7-acd0-4049-b995-9b9d54d9f9ea",
   "metadata": {},
   "outputs": [],
   "source": []
  },
  {
   "cell_type": "markdown",
   "id": "b5abd0f8-9e3b-4b01-9076-a23963b47e5d",
   "metadata": {},
   "source": [
    "## 6. Generate HTML Page"
   ]
  },
  {
   "cell_type": "code",
   "execution_count": null,
   "id": "7ed36189-8088-42f8-8ac2-e814ac874c05",
   "metadata": {},
   "outputs": [],
   "source": []
  },
  {
   "cell_type": "markdown",
   "id": "34d750ca-5c8f-42c7-87b0-7e929fe3e319",
   "metadata": {},
   "source": [
    "## 7. Run pipeline"
   ]
  },
  {
   "cell_type": "code",
   "execution_count": null,
   "id": "7be47e0a-5dea-45d2-a922-11a2afc17bb4",
   "metadata": {},
   "outputs": [],
   "source": [
    "# Input event name:\n",
    "event_name = \"\" # The 2024 Nobel Prize"
   ]
  },
  {
   "cell_type": "code",
   "execution_count": null,
   "id": "7a344d13-4d9c-4135-b266-164ca2a6164f",
   "metadata": {},
   "outputs": [],
   "source": [
    "# Crawl the news\n",
    "\n",
    "# Clean the data\n",
    "\n",
    "# Extract information\n",
    "\n",
    "# Summarize\n",
    "\n",
    "# Generate HTML page\n",
    "summary_page = \"\""
   ]
  }
 ],
 "metadata": {
  "kernelspec": {
   "display_name": "Python 3 (ipykernel)",
   "language": "python",
   "name": "python3"
  },
  "language_info": {
   "codemirror_mode": {
    "name": "ipython",
    "version": 3
   },
   "file_extension": ".py",
   "mimetype": "text/x-python",
   "name": "python",
   "nbconvert_exporter": "python",
   "pygments_lexer": "ipython3",
   "version": "3.8.20"
  }
 },
 "nbformat": 4,
 "nbformat_minor": 5
}
